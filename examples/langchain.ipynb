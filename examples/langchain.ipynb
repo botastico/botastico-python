{
 "cells": [
  {
   "cell_type": "code",
   "execution_count": 1,
   "metadata": {},
   "outputs": [],
   "source": [
    "import os\n",
    "import sys\n",
    "module_path = os.path.abspath(os.path.join('../'))\n",
    "if module_path not in sys.path:\n",
    "    sys.path.append(module_path)"
   ]
  },
  {
   "cell_type": "code",
   "execution_count": 4,
   "metadata": {},
   "outputs": [
    {
     "name": "stdout",
     "output_type": "stream",
     "text": [
      "Strengths:\n",
      "1. Leading market position: Unity is one of the leading game development engines in the market, with a significant market share. It is widely used by both small indie developers and large game studios.\n",
      "2. User-friendly interface: Unity offers an intuitive and user-friendly interface, making it accessible to developers with varying levels of experience. It provides a visual editor that simplifies the game development process.\n",
      "3. Multi-platform support: Unity supports multiple platforms, including Windows, macOS, iOS, Android, and more. This allows developers to create games for various devices and reach a broader audience.\n",
      "4. Strong community support: Unity has a vast and active community of developers, offering support, resources, and forums to help each other. This community-driven approach enhances the learning experience and problem-solving capabilities for developers.\n",
      "5. Asset store: Unity's asset store provides a wide range of pre-built assets, scripts, and plugins that developers can use to enhance their games. This saves time and effort in developing everything from scratch.\n",
      "\n",
      "Weaknesses:\n",
      "1. Performance limitations: While Unity is versatile and supports multiple platforms, it may face performance limitations when developing complex and resource-intensive games. This can be a challenge for developers aiming for high-performance games with advanced graphics.\n",
      "2. Learning curve: Despite its user-friendly interface, Unity still has a learning curve for beginners. It requires some time and effort to become proficient in using the engine and understanding its capabilities fully.\n",
      "3. Limited 2D capabilities: Unity is primarily known for its 3D game development capabilities. While it does support 2D development, it may lag behind dedicated 2D game engines in terms of features and performance for 2D games.\n",
      "\n",
      "Opportunities:\n",
      "1. Growing gaming industry: The gaming industry continues to grow rapidly, providing ample opportunities for Unity to expand its market share. With the increasing popularity of mobile gaming and virtual reality, Unity can tap into these emerging markets.\n",
      "2. Expansion into other industries: Unity can explore opportunities beyond gaming and expand its usage in other industries, such as architecture, simulations, training, and virtual reality experiences. This diversification can open up new revenue streams.\n",
      "3. Continued technological advancements: As technology evolves, Unity can leverage new advancements in areas like augmented reality, machine learning, and cloud gaming to enhance its capabilities and attract more developers.\n",
      "\n",
      "Threats:\n",
      "1. Competition: Unity faces strong competition from other game engines like Unreal Engine, which also have a significant market share. Competitors may offer unique features or better performance, which can attract developers away from Unity.\n",
      "2. Changing market trends: The gaming industry is constantly evolving, and Unity needs to adapt to changing trends and player preferences. Failure to do so may result in losing market relevance.\n",
      "3. Dependency on third-party plugins: While Unity's asset store provides a wide range of plugins, the engine relies on third-party developers to create and maintain those plugins. Any disruption in this ecosystem or the discontinuation of essential plugins can impact Unity's functionality and user experience.\n"
     ]
    }
   ],
   "source": [
    "from langchain.schema import (\n",
    "    HumanMessage,\n",
    ")\n",
    "from langchain.chat_models import ChatOpenAI\n",
    "\n",
    "openai_chat = ChatOpenAI(\n",
    "    openai_api_key='<your-openai-key>'\n",
    ")\n",
    "openai_ai_message = openai_chat([\n",
    "    HumanMessage(content=\"Please provide me with a SWOT analysis of Unity!\")\n",
    "])\n",
    "\n",
    "print(openai_ai_message.content)"
   ]
  },
  {
   "cell_type": "code",
   "execution_count": 2,
   "metadata": {},
   "outputs": [
    {
     "name": "stdout",
     "output_type": "stream",
     "text": [
      "Sure, here's a SWOT analysis of Unity:\n",
      "\n",
      "Strengths:\n",
      "1. Robust Platform: Unity provides a comprehensive set of software solutions for creating, running, and monetizing real-time 2D and 3D content for various devices which has made it popular among content creators.\n",
      "2. Wide User Base: Unity serves a diverse customer base, from individuals to enterprises, in various industries, which helps it maintain a steady stream of revenue.\n",
      "3. Sustainable Competitive Advantages: Unity has four structural and sustainable competitive advantages: the Unity Editor, the Unity runtime, the Unity Network, and its Data Advantage.\n",
      "4. Global Presence: Unity has a significant global presence with operations in various countries, including North America, Denmark, China, Finland, the UK, and more.\n",
      "\n",
      "Weaknesses:\n",
      "1. Dependence on Third-Party Platforms: Unity's success depends on favorable relationships with hardware, operating system, device, game console, and other technology providers. Any changes in terms of service, policies, or technical requirements from these providers could impact Unity's business.\n",
      "2. Workforce Reduction: Unity's recent decision to reduce approximately 8% of its workforce could impact its operations and staff morale.\n",
      "3. Profitability: Unity has mentioned its struggle in achieving and sustaining profitability, which could be a concern for investors.\n",
      "\n",
      "Opportunities:\n",
      "1. Rise of AI Technologies: Unity is well-positioned to benefit from the rise of AI technologies. The introduction of AI into its platform could boost its growth and profitability.\n",
      "2. Expansion into New Industries: Unity has the opportunity to expand into new industries and attract new customers, thereby increasing its market share.\n",
      "3. Mergers and Acquisitions: Unity's successful integration of ironSource’s technology and business indicates its potential for further growth through strategic mergers and acquisitions.\n",
      "\n",
      "Threats:\n",
      "1. Intense Competition: The markets in which Unity operates are highly competitive. Other companies might offer better or more innovative solutions.\n",
      "2. Data Security: Any breaches in Unity's security measures could lead to unauthorized access to its platform, its data, or its customers' or users' personal data, which could damage its reputation and customer trust.\n",
      "3. Regulatory Risks: The rapidly changing and increasingly stringent laws, regulations, contractual obligations, and industry standards related to privacy, data security, and the protection of children could impact Unity's operations and profitability.\n"
     ]
    }
   ],
   "source": [
    "from botastico.langchain import ChatBotastico\n",
    "\n",
    "\n",
    "# This example is from the direct api call example repo found here; https://github.com/botastico/botastico-api-examples\n",
    "chat = ChatBotastico(\n",
    "    botastico_agent_id='<your-botastico-agent-id>',\n",
    "    botastico_api_key='<your-botastico-api-key>'\n",
    "    \n",
    ")\n",
    "\n",
    "ai_message = chat([\n",
    "    HumanMessage(content=\"Please provide me with a SWOT analysis of Unity!\")\n",
    "])\n",
    "\n",
    "print(ai_message.content)"
   ]
  }
 ],
 "metadata": {
  "kernelspec": {
   "display_name": "botastico",
   "language": "python",
   "name": "botastico"
  },
  "language_info": {
   "codemirror_mode": {
    "name": "ipython",
    "version": 3
   },
   "file_extension": ".py",
   "mimetype": "text/x-python",
   "name": "python",
   "nbconvert_exporter": "python",
   "pygments_lexer": "ipython3",
   "version": "3.11.4"
  },
  "orig_nbformat": 4
 },
 "nbformat": 4,
 "nbformat_minor": 2
}
