{
 "cells": [
  {
   "cell_type": "code",
   "execution_count": 5,
   "metadata": {},
   "outputs": [],
   "source": [
    "import os\n",
    "import sys\n",
    "module_path = os.path.abspath(os.path.join('../'))\n",
    "if module_path not in sys.path:\n",
    "    sys.path.append(module_path)"
   ]
  },
  {
   "cell_type": "code",
   "execution_count": 9,
   "metadata": {},
   "outputs": [
    {
     "name": "stdout",
     "output_type": "stream",
     "text": [
      "I'm sorry, but I couldn't find any information on a \"blurby bike.\" It is\n",
      "possible that it may be a term or a specific product that is not widely\n",
      "recognized or known. Could you please provide more context or clarify your\n",
      "question?\n"
     ]
    }
   ],
   "source": [
    "from langchain.schema import (\n",
    "    HumanMessage,\n",
    ")\n",
    "from langchain.chat_models import ChatOpenAI\n",
    "import textwrap\n",
    "\n",
    "\n",
    "openai_chat = ChatOpenAI(\n",
    "    openai_api_key='<your-openai-api-key>'\n",
    ")\n",
    "openai_ai_message = openai_chat([\n",
    "    HumanMessage(content=\"What is a blurby bike?\")\n",
    "])\n",
    "\n",
    "wrapped_text = textwrap.fill(openai_ai_message.content, width=80)\n",
    "\n",
    "print(wrapped_text)"
   ]
  },
  {
   "cell_type": "code",
   "execution_count": 10,
   "metadata": {},
   "outputs": [
    {
     "name": "stdout",
     "output_type": "stream",
     "text": [
      "A Blurby bike is an electric bike, also known as an E-Bike, made in Europe. It\n",
      "is known for being lightweight, with a weight of only 13-16 kg, which is similar\n",
      "to many regular bikes and lighter than other e-bikes. It features a pure design\n",
      "that doesn't differ from regular city bikes, with all the electronics fully\n",
      "integrated and invisible. The bike is powered by an electric hub motor and comes\n",
      "with a single-speed belt drive system. The battery technology is advanced, using\n",
      "a small, compact battery pack hidden in the bike's bottom tube, made from high-\n",
      "quality, long-lasting battery cells by LG and Panasonic. The bike is handcrafted\n",
      "by experienced assembly specialists in Budapest, Europe.\n"
     ]
    }
   ],
   "source": [
    "from botastico.langchain import ChatBotastico\n",
    "\n",
    "\n",
    "# This example is from the direct api call example repo found here; https://github.com/botastico/botastico-api-examples\n",
    "chat = ChatBotastico(\n",
    "    botastico_agent_id='<your-botastico-agent-id>',\n",
    "    botastico_api_key='<your-botastico-api-key>'\n",
    ")\n",
    "\n",
    "ai_message = chat([\n",
    "    HumanMessage(content=\"What is a blurby bike?\")\n",
    "])\n",
    "\n",
    "wrapped_text = textwrap.fill(ai_message.content, width=80)\n",
    "\n",
    "print(wrapped_text)"
   ]
  }
 ],
 "metadata": {
  "kernelspec": {
   "display_name": "botastico",
   "language": "python",
   "name": "botastico"
  },
  "language_info": {
   "codemirror_mode": {
    "name": "ipython",
    "version": 3
   },
   "file_extension": ".py",
   "mimetype": "text/x-python",
   "name": "python",
   "nbconvert_exporter": "python",
   "pygments_lexer": "ipython3",
   "version": "3.11.4"
  },
  "orig_nbformat": 4
 },
 "nbformat": 4,
 "nbformat_minor": 2
}
